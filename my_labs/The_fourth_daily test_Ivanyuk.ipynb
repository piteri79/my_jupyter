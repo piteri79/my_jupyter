{
 "cells": [
  {
   "cell_type": "markdown",
   "metadata": {},
   "source": [
    "### 1、Import tensorflow and use tensorflow to define a constant."
   ]
  },
  {
   "cell_type": "code",
   "execution_count": 3,
   "metadata": {
    "scrolled": true
   },
   "outputs": [
    {
     "name": "stdout",
     "output_type": "stream",
     "text": [
      "2.3.1\n",
      "b'Hello, TensorFlow!'\n"
     ]
    },
    {
     "data": {
      "text/plain": [
       "(<tf.Tensor 'Const_4:0' shape=() dtype=int32>,\n",
       " <tf.Tensor 'Const_5:0' shape=() dtype=int32>)"
      ]
     },
     "execution_count": 3,
     "metadata": {},
     "output_type": "execute_result"
    }
   ],
   "source": [
    "import tensorflow.compat.v1 as tf\n",
    "tf.disable_v2_behavior()\n",
    "print(tf.__version__)\n",
    "hello = tf.constant('Hello, TensorFlow!')\n",
    "sess = tf.Session()\n",
    "print(sess.run(hello))\n",
    "sess.close()\n",
    "a = tf.constant(10)\n",
    "b = tf.constant(32)\n",
    "a, b"
   ]
  },
  {
   "cell_type": "markdown",
   "metadata": {},
   "source": [
    "### 2、Use tensorflow to print 'Welcome to Huawei'."
   ]
  },
  {
   "cell_type": "code",
   "execution_count": 4,
   "metadata": {},
   "outputs": [
    {
     "name": "stdout",
     "output_type": "stream",
     "text": [
      "b'Welcome to Huawei'\n"
     ]
    }
   ],
   "source": [
    "s = tf.Session()\n",
    "h = tf.constant('Welcome to Huawei')\n",
    "r = s.run(h)\n",
    "print(r)\n",
    "s.close()"
   ]
  },
  {
   "cell_type": "markdown",
   "metadata": {},
   "source": [
    "### 3、Use tensorflow to define two numeric constants,then calculate them and print the result."
   ]
  },
  {
   "cell_type": "code",
   "execution_count": 5,
   "metadata": {},
   "outputs": [
    {
     "name": "stdout",
     "output_type": "stream",
     "text": [
      "42\n"
     ]
    }
   ],
   "source": [
    "ss = tf.Session()\n",
    "aa = tf.constant(10)\n",
    "bb = tf.constant(32)\n",
    "print(ss.run(aa+bb))\n",
    "ss.close()"
   ]
  },
  {
   "cell_type": "markdown",
   "metadata": {},
   "source": [
    "### 4、Randomly generate two matrices using tensorflow, calculate and print the result of their multiplication."
   ]
  },
  {
   "cell_type": "code",
   "execution_count": 1,
   "metadata": {},
   "outputs": [
    {
     "name": "stdout",
     "output_type": "stream",
     "text": [
      "tf.Tensor([[2.7699199]], shape=(1, 1), dtype=float32)\n"
     ]
    }
   ],
   "source": [
    "import tensorflow.compat.v1 as tf1\n",
    "sess = tf1.InteractiveSession()\n",
    "w1 = tf1.Variable(tf1.random_normal([2,3],mean=1.0, stddev=1.0))\n",
    "w2 = tf1.Variable(tf1.random_normal([3,1],mean=1.0, stddev=1.0))\n",
    "x = tf1.constant([[0.7, 0.9]])\n",
    "a = tf1.matmul(x ,w1)\n",
    "y = tf1.matmul(a, w2)\n",
    "print(y)"
   ]
  },
  {
   "cell_type": "markdown",
   "metadata": {},
   "source": [
    "### 5、Try to use your own handwriting number to do image recognition"
   ]
  },
  {
   "cell_type": "code",
   "execution_count": 6,
   "metadata": {},
   "outputs": [
    {
     "data": {
      "text/plain": [
       "<matplotlib.image.AxesImage at 0x221d09deee0>"
      ]
     },
     "execution_count": 6,
     "metadata": {},
     "output_type": "execute_result"
    },
    {
     "data": {
      "image/png": "[encoded data removed]",
      "text/plain": [
       "<Figure size 432x288 with 1 Axes>"
      ]
     },
     "metadata": {
      "needs_background": "light"
     },
     "output_type": "display_data"
    }
   ],
   "source": [
    "import numpy as np\n",
    "import cv2\n",
    "import matplotlib.pyplot as plt\n",
    "img_path = \"More\\\\data\\\\self_data\\\\6.jpg\"\n",
    "img_file = cv2.imread(img_path)\n",
    "img_file = cv2.cvtColor(img_file, cv2.COLOR_RGB2GRAY)\n",
    "img_file = 255 - img_file\n",
    "for row in range(img_file.shape[0]):\n",
    "    for col in range(img_file.shape[1]):\n",
    "        if img_file[row][col] < 120.0:\n",
    "            img_file[row][col] = 0\n",
    "plt.imshow(img_file, 'gray')"
   ]
  },
  {
   "cell_type": "code",
   "execution_count": null,
   "metadata": {},
   "outputs": [],
   "source": []
  }
 ],
 "metadata": {
  "kernelspec": {
   "display_name": "Python 3",
   "language": "python",
   "name": "python3"
  },
  "language_info": {
   "codemirror_mode": {
    "name": "ipython",
    "version": 3
   },
   "file_extension": ".py",
   "mimetype": "text/x-python",
   "name": "python",
   "nbconvert_exporter": "python",
   "pygments_lexer": "ipython3",
   "version": "3.8.6"
  }
 },
 "nbformat": 4,
 "nbformat_minor": 2
}
